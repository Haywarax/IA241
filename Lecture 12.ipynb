{
 "cells": [
  {
   "cell_type": "code",
   "execution_count": 1,
   "id": "fcd718c9",
   "metadata": {},
   "outputs": [],
   "source": [
    "import pandas"
   ]
  },
  {
   "cell_type": "code",
   "execution_count": 2,
   "id": "9c9ea4f3",
   "metadata": {},
   "outputs": [],
   "source": [
    "df = pandas.read_excel('s3://ia241-spring2022-hayward/Diamonds.xls')"
   ]
  },
  {
   "cell_type": "code",
   "execution_count": 3,
   "id": "713ec08c",
   "metadata": {},
   "outputs": [
    {
     "data": {
      "text/html": [
       "<div>\n",
       "<style scoped>\n",
       "    .dataframe tbody tr th:only-of-type {\n",
       "        vertical-align: middle;\n",
       "    }\n",
       "\n",
       "    .dataframe tbody tr th {\n",
       "        vertical-align: top;\n",
       "    }\n",
       "\n",
       "    .dataframe thead th {\n",
       "        text-align: right;\n",
       "    }\n",
       "</style>\n",
       "<table border=\"1\" class=\"dataframe\">\n",
       "  <thead>\n",
       "    <tr style=\"text-align: right;\">\n",
       "      <th></th>\n",
       "      <th>IDNO</th>\n",
       "      <th>WEIGHT</th>\n",
       "      <th>COLOR</th>\n",
       "      <th>CLARITY</th>\n",
       "      <th>RATER</th>\n",
       "      <th>PRICE</th>\n",
       "    </tr>\n",
       "  </thead>\n",
       "  <tbody>\n",
       "    <tr>\n",
       "      <th>0</th>\n",
       "      <td>1</td>\n",
       "      <td>0.30</td>\n",
       "      <td>D</td>\n",
       "      <td>VS2</td>\n",
       "      <td>GIA</td>\n",
       "      <td>1302</td>\n",
       "    </tr>\n",
       "    <tr>\n",
       "      <th>1</th>\n",
       "      <td>2</td>\n",
       "      <td>0.30</td>\n",
       "      <td>E</td>\n",
       "      <td>VS1</td>\n",
       "      <td>GIA</td>\n",
       "      <td>1510</td>\n",
       "    </tr>\n",
       "    <tr>\n",
       "      <th>2</th>\n",
       "      <td>3</td>\n",
       "      <td>0.30</td>\n",
       "      <td>G</td>\n",
       "      <td>VVS1</td>\n",
       "      <td>GIA</td>\n",
       "      <td>1510</td>\n",
       "    </tr>\n",
       "    <tr>\n",
       "      <th>3</th>\n",
       "      <td>4</td>\n",
       "      <td>0.30</td>\n",
       "      <td>G</td>\n",
       "      <td>VS1</td>\n",
       "      <td>GIA</td>\n",
       "      <td>1260</td>\n",
       "    </tr>\n",
       "    <tr>\n",
       "      <th>4</th>\n",
       "      <td>5</td>\n",
       "      <td>0.31</td>\n",
       "      <td>D</td>\n",
       "      <td>VS1</td>\n",
       "      <td>GIA</td>\n",
       "      <td>1641</td>\n",
       "    </tr>\n",
       "    <tr>\n",
       "      <th>5</th>\n",
       "      <td>6</td>\n",
       "      <td>0.31</td>\n",
       "      <td>E</td>\n",
       "      <td>VS1</td>\n",
       "      <td>GIA</td>\n",
       "      <td>1555</td>\n",
       "    </tr>\n",
       "    <tr>\n",
       "      <th>6</th>\n",
       "      <td>7</td>\n",
       "      <td>0.31</td>\n",
       "      <td>F</td>\n",
       "      <td>VS1</td>\n",
       "      <td>GIA</td>\n",
       "      <td>1427</td>\n",
       "    </tr>\n",
       "    <tr>\n",
       "      <th>7</th>\n",
       "      <td>8</td>\n",
       "      <td>0.31</td>\n",
       "      <td>G</td>\n",
       "      <td>VVS2</td>\n",
       "      <td>GIA</td>\n",
       "      <td>1427</td>\n",
       "    </tr>\n",
       "    <tr>\n",
       "      <th>8</th>\n",
       "      <td>9</td>\n",
       "      <td>0.31</td>\n",
       "      <td>H</td>\n",
       "      <td>VS2</td>\n",
       "      <td>GIA</td>\n",
       "      <td>1126</td>\n",
       "    </tr>\n",
       "    <tr>\n",
       "      <th>9</th>\n",
       "      <td>10</td>\n",
       "      <td>0.31</td>\n",
       "      <td>I</td>\n",
       "      <td>VS1</td>\n",
       "      <td>GIA</td>\n",
       "      <td>1126</td>\n",
       "    </tr>\n",
       "  </tbody>\n",
       "</table>\n",
       "</div>"
      ],
      "text/plain": [
       "   IDNO  WEIGHT COLOR CLARITY RATER  PRICE\n",
       "0     1    0.30     D     VS2   GIA   1302\n",
       "1     2    0.30     E     VS1   GIA   1510\n",
       "2     3    0.30     G    VVS1   GIA   1510\n",
       "3     4    0.30     G     VS1   GIA   1260\n",
       "4     5    0.31     D     VS1   GIA   1641\n",
       "5     6    0.31     E     VS1   GIA   1555\n",
       "6     7    0.31     F     VS1   GIA   1427\n",
       "7     8    0.31     G    VVS2   GIA   1427\n",
       "8     9    0.31     H     VS2   GIA   1126\n",
       "9    10    0.31     I     VS1   GIA   1126"
      ]
     },
     "execution_count": 3,
     "metadata": {},
     "output_type": "execute_result"
    }
   ],
   "source": [
    "df[:10]"
   ]
  },
  {
   "cell_type": "code",
   "execution_count": 4,
   "id": "688ce6f8",
   "metadata": {},
   "outputs": [
    {
     "data": {
      "text/html": [
       "<div>\n",
       "<style scoped>\n",
       "    .dataframe tbody tr th:only-of-type {\n",
       "        vertical-align: middle;\n",
       "    }\n",
       "\n",
       "    .dataframe tbody tr th {\n",
       "        vertical-align: top;\n",
       "    }\n",
       "\n",
       "    .dataframe thead th {\n",
       "        text-align: right;\n",
       "    }\n",
       "</style>\n",
       "<table border=\"1\" class=\"dataframe\">\n",
       "  <thead>\n",
       "    <tr style=\"text-align: right;\">\n",
       "      <th></th>\n",
       "      <th>IDNO</th>\n",
       "      <th>WEIGHT</th>\n",
       "      <th>PRICE</th>\n",
       "    </tr>\n",
       "  </thead>\n",
       "  <tbody>\n",
       "    <tr>\n",
       "      <th>count</th>\n",
       "      <td>308.000000</td>\n",
       "      <td>308.000000</td>\n",
       "      <td>308.000000</td>\n",
       "    </tr>\n",
       "    <tr>\n",
       "      <th>mean</th>\n",
       "      <td>154.500000</td>\n",
       "      <td>0.630909</td>\n",
       "      <td>5019.483766</td>\n",
       "    </tr>\n",
       "    <tr>\n",
       "      <th>std</th>\n",
       "      <td>89.056162</td>\n",
       "      <td>0.277183</td>\n",
       "      <td>3403.115715</td>\n",
       "    </tr>\n",
       "    <tr>\n",
       "      <th>min</th>\n",
       "      <td>1.000000</td>\n",
       "      <td>0.180000</td>\n",
       "      <td>638.000000</td>\n",
       "    </tr>\n",
       "    <tr>\n",
       "      <th>25%</th>\n",
       "      <td>77.750000</td>\n",
       "      <td>0.350000</td>\n",
       "      <td>1625.000000</td>\n",
       "    </tr>\n",
       "    <tr>\n",
       "      <th>50%</th>\n",
       "      <td>154.500000</td>\n",
       "      <td>0.620000</td>\n",
       "      <td>4215.000000</td>\n",
       "    </tr>\n",
       "    <tr>\n",
       "      <th>75%</th>\n",
       "      <td>231.250000</td>\n",
       "      <td>0.850000</td>\n",
       "      <td>7446.000000</td>\n",
       "    </tr>\n",
       "    <tr>\n",
       "      <th>max</th>\n",
       "      <td>308.000000</td>\n",
       "      <td>1.100000</td>\n",
       "      <td>16008.000000</td>\n",
       "    </tr>\n",
       "  </tbody>\n",
       "</table>\n",
       "</div>"
      ],
      "text/plain": [
       "             IDNO      WEIGHT         PRICE\n",
       "count  308.000000  308.000000    308.000000\n",
       "mean   154.500000    0.630909   5019.483766\n",
       "std     89.056162    0.277183   3403.115715\n",
       "min      1.000000    0.180000    638.000000\n",
       "25%     77.750000    0.350000   1625.000000\n",
       "50%    154.500000    0.620000   4215.000000\n",
       "75%    231.250000    0.850000   7446.000000\n",
       "max    308.000000    1.100000  16008.000000"
      ]
     },
     "execution_count": 4,
     "metadata": {},
     "output_type": "execute_result"
    }
   ],
   "source": [
    "df.describe()"
   ]
  },
  {
   "cell_type": "code",
   "execution_count": 6,
   "id": "4f15db6e",
   "metadata": {},
   "outputs": [
    {
     "data": {
      "text/plain": [
       "0       1302\n",
       "1       1510\n",
       "2       1510\n",
       "3       1260\n",
       "4       1641\n",
       "       ...  \n",
       "303     8175\n",
       "304    10796\n",
       "305     9890\n",
       "306     8959\n",
       "307     9107\n",
       "Name: PRICE, Length: 308, dtype: int64"
      ]
     },
     "execution_count": 6,
     "metadata": {},
     "output_type": "execute_result"
    }
   ],
   "source": [
    "df[\"PRICE\"]"
   ]
  },
  {
   "cell_type": "code",
   "execution_count": 8,
   "id": "4a0e9cb6",
   "metadata": {},
   "outputs": [
    {
     "data": {
      "text/html": [
       "<div>\n",
       "<style scoped>\n",
       "    .dataframe tbody tr th:only-of-type {\n",
       "        vertical-align: middle;\n",
       "    }\n",
       "\n",
       "    .dataframe tbody tr th {\n",
       "        vertical-align: top;\n",
       "    }\n",
       "\n",
       "    .dataframe thead th {\n",
       "        text-align: right;\n",
       "    }\n",
       "</style>\n",
       "<table border=\"1\" class=\"dataframe\">\n",
       "  <thead>\n",
       "    <tr style=\"text-align: right;\">\n",
       "      <th></th>\n",
       "      <th>IDNO</th>\n",
       "      <th>WEIGHT</th>\n",
       "      <th>COLOR</th>\n",
       "      <th>CLARITY</th>\n",
       "      <th>RATER</th>\n",
       "      <th>PRICE</th>\n",
       "    </tr>\n",
       "  </thead>\n",
       "  <tbody>\n",
       "    <tr>\n",
       "      <th>1</th>\n",
       "      <td>2</td>\n",
       "      <td>0.30</td>\n",
       "      <td>E</td>\n",
       "      <td>VS1</td>\n",
       "      <td>GIA</td>\n",
       "      <td>1510</td>\n",
       "    </tr>\n",
       "    <tr>\n",
       "      <th>2</th>\n",
       "      <td>3</td>\n",
       "      <td>0.30</td>\n",
       "      <td>G</td>\n",
       "      <td>VVS1</td>\n",
       "      <td>GIA</td>\n",
       "      <td>1510</td>\n",
       "    </tr>\n",
       "    <tr>\n",
       "      <th>3</th>\n",
       "      <td>4</td>\n",
       "      <td>0.30</td>\n",
       "      <td>G</td>\n",
       "      <td>VS1</td>\n",
       "      <td>GIA</td>\n",
       "      <td>1260</td>\n",
       "    </tr>\n",
       "    <tr>\n",
       "      <th>4</th>\n",
       "      <td>5</td>\n",
       "      <td>0.31</td>\n",
       "      <td>D</td>\n",
       "      <td>VS1</td>\n",
       "      <td>GIA</td>\n",
       "      <td>1641</td>\n",
       "    </tr>\n",
       "  </tbody>\n",
       "</table>\n",
       "</div>"
      ],
      "text/plain": [
       "   IDNO  WEIGHT COLOR CLARITY RATER  PRICE\n",
       "1     2    0.30     E     VS1   GIA   1510\n",
       "2     3    0.30     G    VVS1   GIA   1510\n",
       "3     4    0.30     G     VS1   GIA   1260\n",
       "4     5    0.31     D     VS1   GIA   1641"
      ]
     },
     "execution_count": 8,
     "metadata": {},
     "output_type": "execute_result"
    }
   ],
   "source": [
    "df[1:5]"
   ]
  },
  {
   "cell_type": "code",
   "execution_count": 9,
   "id": "74bbe485",
   "metadata": {},
   "outputs": [
    {
     "data": {
      "text/html": [
       "<div>\n",
       "<style scoped>\n",
       "    .dataframe tbody tr th:only-of-type {\n",
       "        vertical-align: middle;\n",
       "    }\n",
       "\n",
       "    .dataframe tbody tr th {\n",
       "        vertical-align: top;\n",
       "    }\n",
       "\n",
       "    .dataframe thead th {\n",
       "        text-align: right;\n",
       "    }\n",
       "</style>\n",
       "<table border=\"1\" class=\"dataframe\">\n",
       "  <thead>\n",
       "    <tr style=\"text-align: right;\">\n",
       "      <th></th>\n",
       "      <th>IDNO</th>\n",
       "      <th>WEIGHT</th>\n",
       "      <th>COLOR</th>\n",
       "      <th>CLARITY</th>\n",
       "      <th>RATER</th>\n",
       "      <th>PRICE</th>\n",
       "    </tr>\n",
       "  </thead>\n",
       "  <tbody>\n",
       "    <tr>\n",
       "      <th>1</th>\n",
       "      <td>2</td>\n",
       "      <td>0.30</td>\n",
       "      <td>E</td>\n",
       "      <td>VS1</td>\n",
       "      <td>GIA</td>\n",
       "      <td>1510</td>\n",
       "    </tr>\n",
       "    <tr>\n",
       "      <th>2</th>\n",
       "      <td>3</td>\n",
       "      <td>0.30</td>\n",
       "      <td>G</td>\n",
       "      <td>VVS1</td>\n",
       "      <td>GIA</td>\n",
       "      <td>1510</td>\n",
       "    </tr>\n",
       "    <tr>\n",
       "      <th>4</th>\n",
       "      <td>5</td>\n",
       "      <td>0.31</td>\n",
       "      <td>D</td>\n",
       "      <td>VS1</td>\n",
       "      <td>GIA</td>\n",
       "      <td>1641</td>\n",
       "    </tr>\n",
       "    <tr>\n",
       "      <th>5</th>\n",
       "      <td>6</td>\n",
       "      <td>0.31</td>\n",
       "      <td>E</td>\n",
       "      <td>VS1</td>\n",
       "      <td>GIA</td>\n",
       "      <td>1555</td>\n",
       "    </tr>\n",
       "    <tr>\n",
       "      <th>14</th>\n",
       "      <td>15</td>\n",
       "      <td>0.34</td>\n",
       "      <td>E</td>\n",
       "      <td>VS1</td>\n",
       "      <td>GIA</td>\n",
       "      <td>1693</td>\n",
       "    </tr>\n",
       "    <tr>\n",
       "      <th>...</th>\n",
       "      <td>...</td>\n",
       "      <td>...</td>\n",
       "      <td>...</td>\n",
       "      <td>...</td>\n",
       "      <td>...</td>\n",
       "      <td>...</td>\n",
       "    </tr>\n",
       "    <tr>\n",
       "      <th>303</th>\n",
       "      <td>304</td>\n",
       "      <td>1.01</td>\n",
       "      <td>I</td>\n",
       "      <td>VS1</td>\n",
       "      <td>HRD</td>\n",
       "      <td>8175</td>\n",
       "    </tr>\n",
       "    <tr>\n",
       "      <th>304</th>\n",
       "      <td>305</td>\n",
       "      <td>1.02</td>\n",
       "      <td>F</td>\n",
       "      <td>VVS2</td>\n",
       "      <td>HRD</td>\n",
       "      <td>10796</td>\n",
       "    </tr>\n",
       "    <tr>\n",
       "      <th>305</th>\n",
       "      <td>306</td>\n",
       "      <td>1.06</td>\n",
       "      <td>H</td>\n",
       "      <td>VVS2</td>\n",
       "      <td>HRD</td>\n",
       "      <td>9890</td>\n",
       "    </tr>\n",
       "    <tr>\n",
       "      <th>306</th>\n",
       "      <td>307</td>\n",
       "      <td>1.02</td>\n",
       "      <td>H</td>\n",
       "      <td>VS2</td>\n",
       "      <td>HRD</td>\n",
       "      <td>8959</td>\n",
       "    </tr>\n",
       "    <tr>\n",
       "      <th>307</th>\n",
       "      <td>308</td>\n",
       "      <td>1.09</td>\n",
       "      <td>I</td>\n",
       "      <td>VVS2</td>\n",
       "      <td>HRD</td>\n",
       "      <td>9107</td>\n",
       "    </tr>\n",
       "  </tbody>\n",
       "</table>\n",
       "<p>245 rows × 6 columns</p>\n",
       "</div>"
      ],
      "text/plain": [
       "     IDNO  WEIGHT COLOR CLARITY RATER  PRICE\n",
       "1       2    0.30     E     VS1   GIA   1510\n",
       "2       3    0.30     G    VVS1   GIA   1510\n",
       "4       5    0.31     D     VS1   GIA   1641\n",
       "5       6    0.31     E     VS1   GIA   1555\n",
       "14     15    0.34     E     VS1   GIA   1693\n",
       "..    ...     ...   ...     ...   ...    ...\n",
       "303   304    1.01     I     VS1   HRD   8175\n",
       "304   305    1.02     F    VVS2   HRD  10796\n",
       "305   306    1.06     H    VVS2   HRD   9890\n",
       "306   307    1.02     H     VS2   HRD   8959\n",
       "307   308    1.09     I    VVS2   HRD   9107\n",
       "\n",
       "[245 rows x 6 columns]"
      ]
     },
     "execution_count": 9,
     "metadata": {},
     "output_type": "execute_result"
    }
   ],
   "source": [
    "df.loc[df['PRICE']>1500]"
   ]
  },
  {
   "cell_type": "code",
   "execution_count": 11,
   "id": "be33d090",
   "metadata": {},
   "outputs": [
    {
     "data": {
      "text/html": [
       "<div>\n",
       "<style scoped>\n",
       "    .dataframe tbody tr th:only-of-type {\n",
       "        vertical-align: middle;\n",
       "    }\n",
       "\n",
       "    .dataframe tbody tr th {\n",
       "        vertical-align: top;\n",
       "    }\n",
       "\n",
       "    .dataframe thead th {\n",
       "        text-align: right;\n",
       "    }\n",
       "</style>\n",
       "<table border=\"1\" class=\"dataframe\">\n",
       "  <thead>\n",
       "    <tr style=\"text-align: right;\">\n",
       "      <th></th>\n",
       "      <th>IDNO</th>\n",
       "      <th>WEIGHT</th>\n",
       "      <th>COLOR</th>\n",
       "      <th>CLARITY</th>\n",
       "      <th>RATER</th>\n",
       "      <th>PRICE</th>\n",
       "    </tr>\n",
       "  </thead>\n",
       "  <tbody>\n",
       "    <tr>\n",
       "      <th>151</th>\n",
       "      <td>152</td>\n",
       "      <td>0.18</td>\n",
       "      <td>F</td>\n",
       "      <td>VVS1</td>\n",
       "      <td>IGI</td>\n",
       "      <td>823</td>\n",
       "    </tr>\n",
       "    <tr>\n",
       "      <th>152</th>\n",
       "      <td>153</td>\n",
       "      <td>0.18</td>\n",
       "      <td>F</td>\n",
       "      <td>VVS2</td>\n",
       "      <td>IGI</td>\n",
       "      <td>765</td>\n",
       "    </tr>\n",
       "    <tr>\n",
       "      <th>153</th>\n",
       "      <td>154</td>\n",
       "      <td>0.18</td>\n",
       "      <td>G</td>\n",
       "      <td>IF</td>\n",
       "      <td>IGI</td>\n",
       "      <td>803</td>\n",
       "    </tr>\n",
       "    <tr>\n",
       "      <th>154</th>\n",
       "      <td>155</td>\n",
       "      <td>0.18</td>\n",
       "      <td>G</td>\n",
       "      <td>IF</td>\n",
       "      <td>IGI</td>\n",
       "      <td>803</td>\n",
       "    </tr>\n",
       "    <tr>\n",
       "      <th>155</th>\n",
       "      <td>156</td>\n",
       "      <td>0.18</td>\n",
       "      <td>G</td>\n",
       "      <td>VVS2</td>\n",
       "      <td>IGI</td>\n",
       "      <td>705</td>\n",
       "    </tr>\n",
       "    <tr>\n",
       "      <th>156</th>\n",
       "      <td>157</td>\n",
       "      <td>0.18</td>\n",
       "      <td>H</td>\n",
       "      <td>IF</td>\n",
       "      <td>IGI</td>\n",
       "      <td>725</td>\n",
       "    </tr>\n",
       "    <tr>\n",
       "      <th>157</th>\n",
       "      <td>158</td>\n",
       "      <td>0.19</td>\n",
       "      <td>D</td>\n",
       "      <td>VVS2</td>\n",
       "      <td>IGI</td>\n",
       "      <td>967</td>\n",
       "    </tr>\n",
       "    <tr>\n",
       "      <th>159</th>\n",
       "      <td>160</td>\n",
       "      <td>0.19</td>\n",
       "      <td>F</td>\n",
       "      <td>IF</td>\n",
       "      <td>IGI</td>\n",
       "      <td>967</td>\n",
       "    </tr>\n",
       "    <tr>\n",
       "      <th>160</th>\n",
       "      <td>161</td>\n",
       "      <td>0.19</td>\n",
       "      <td>F</td>\n",
       "      <td>VVS1</td>\n",
       "      <td>IGI</td>\n",
       "      <td>863</td>\n",
       "    </tr>\n",
       "    <tr>\n",
       "      <th>161</th>\n",
       "      <td>162</td>\n",
       "      <td>0.19</td>\n",
       "      <td>F</td>\n",
       "      <td>VVS2</td>\n",
       "      <td>IGI</td>\n",
       "      <td>800</td>\n",
       "    </tr>\n",
       "    <tr>\n",
       "      <th>162</th>\n",
       "      <td>163</td>\n",
       "      <td>0.19</td>\n",
       "      <td>G</td>\n",
       "      <td>IF</td>\n",
       "      <td>IGI</td>\n",
       "      <td>842</td>\n",
       "    </tr>\n",
       "    <tr>\n",
       "      <th>163</th>\n",
       "      <td>164</td>\n",
       "      <td>0.19</td>\n",
       "      <td>G</td>\n",
       "      <td>VVS1</td>\n",
       "      <td>IGI</td>\n",
       "      <td>800</td>\n",
       "    </tr>\n",
       "    <tr>\n",
       "      <th>164</th>\n",
       "      <td>165</td>\n",
       "      <td>0.19</td>\n",
       "      <td>H</td>\n",
       "      <td>IF</td>\n",
       "      <td>IGI</td>\n",
       "      <td>758</td>\n",
       "    </tr>\n",
       "    <tr>\n",
       "      <th>165</th>\n",
       "      <td>166</td>\n",
       "      <td>0.20</td>\n",
       "      <td>D</td>\n",
       "      <td>VS1</td>\n",
       "      <td>IGI</td>\n",
       "      <td>880</td>\n",
       "    </tr>\n",
       "    <tr>\n",
       "      <th>166</th>\n",
       "      <td>167</td>\n",
       "      <td>0.20</td>\n",
       "      <td>G</td>\n",
       "      <td>IF</td>\n",
       "      <td>IGI</td>\n",
       "      <td>880</td>\n",
       "    </tr>\n",
       "    <tr>\n",
       "      <th>167</th>\n",
       "      <td>168</td>\n",
       "      <td>0.20</td>\n",
       "      <td>G</td>\n",
       "      <td>VS1</td>\n",
       "      <td>IGI</td>\n",
       "      <td>705</td>\n",
       "    </tr>\n",
       "    <tr>\n",
       "      <th>168</th>\n",
       "      <td>169</td>\n",
       "      <td>0.20</td>\n",
       "      <td>G</td>\n",
       "      <td>VS2</td>\n",
       "      <td>IGI</td>\n",
       "      <td>638</td>\n",
       "    </tr>\n",
       "    <tr>\n",
       "      <th>169</th>\n",
       "      <td>170</td>\n",
       "      <td>0.21</td>\n",
       "      <td>D</td>\n",
       "      <td>VS1</td>\n",
       "      <td>IGI</td>\n",
       "      <td>919</td>\n",
       "    </tr>\n",
       "    <tr>\n",
       "      <th>172</th>\n",
       "      <td>173</td>\n",
       "      <td>0.21</td>\n",
       "      <td>G</td>\n",
       "      <td>IF</td>\n",
       "      <td>IGI</td>\n",
       "      <td>919</td>\n",
       "    </tr>\n",
       "    <tr>\n",
       "      <th>176</th>\n",
       "      <td>177</td>\n",
       "      <td>0.23</td>\n",
       "      <td>G</td>\n",
       "      <td>IF</td>\n",
       "      <td>IGI</td>\n",
       "      <td>995</td>\n",
       "    </tr>\n",
       "  </tbody>\n",
       "</table>\n",
       "</div>"
      ],
      "text/plain": [
       "     IDNO  WEIGHT COLOR CLARITY RATER  PRICE\n",
       "151   152    0.18     F    VVS1   IGI    823\n",
       "152   153    0.18     F    VVS2   IGI    765\n",
       "153   154    0.18     G      IF   IGI    803\n",
       "154   155    0.18     G      IF   IGI    803\n",
       "155   156    0.18     G    VVS2   IGI    705\n",
       "156   157    0.18     H      IF   IGI    725\n",
       "157   158    0.19     D    VVS2   IGI    967\n",
       "159   160    0.19     F      IF   IGI    967\n",
       "160   161    0.19     F    VVS1   IGI    863\n",
       "161   162    0.19     F    VVS2   IGI    800\n",
       "162   163    0.19     G      IF   IGI    842\n",
       "163   164    0.19     G    VVS1   IGI    800\n",
       "164   165    0.19     H      IF   IGI    758\n",
       "165   166    0.20     D     VS1   IGI    880\n",
       "166   167    0.20     G      IF   IGI    880\n",
       "167   168    0.20     G     VS1   IGI    705\n",
       "168   169    0.20     G     VS2   IGI    638\n",
       "169   170    0.21     D     VS1   IGI    919\n",
       "172   173    0.21     G      IF   IGI    919\n",
       "176   177    0.23     G      IF   IGI    995"
      ]
     },
     "execution_count": 11,
     "metadata": {},
     "output_type": "execute_result"
    }
   ],
   "source": [
    "df.loc[df['PRICE']<1000]"
   ]
  },
  {
   "cell_type": "code",
   "execution_count": 19,
   "id": "5f050c0f",
   "metadata": {},
   "outputs": [
    {
     "data": {
      "text/html": [
       "<div>\n",
       "<style scoped>\n",
       "    .dataframe tbody tr th:only-of-type {\n",
       "        vertical-align: middle;\n",
       "    }\n",
       "\n",
       "    .dataframe tbody tr th {\n",
       "        vertical-align: top;\n",
       "    }\n",
       "\n",
       "    .dataframe thead th {\n",
       "        text-align: right;\n",
       "    }\n",
       "</style>\n",
       "<table border=\"1\" class=\"dataframe\">\n",
       "  <thead>\n",
       "    <tr style=\"text-align: right;\">\n",
       "      <th></th>\n",
       "      <th>IDNO</th>\n",
       "      <th>WEIGHT</th>\n",
       "      <th>COLOR</th>\n",
       "      <th>CLARITY</th>\n",
       "      <th>RATER</th>\n",
       "      <th>PRICE</th>\n",
       "    </tr>\n",
       "  </thead>\n",
       "  <tbody>\n",
       "    <tr>\n",
       "      <th>151</th>\n",
       "      <td>152</td>\n",
       "      <td>0.18</td>\n",
       "      <td>F</td>\n",
       "      <td>VVS1</td>\n",
       "      <td>IGI</td>\n",
       "      <td>823</td>\n",
       "    </tr>\n",
       "    <tr>\n",
       "      <th>152</th>\n",
       "      <td>153</td>\n",
       "      <td>0.18</td>\n",
       "      <td>F</td>\n",
       "      <td>VVS2</td>\n",
       "      <td>IGI</td>\n",
       "      <td>765</td>\n",
       "    </tr>\n",
       "    <tr>\n",
       "      <th>153</th>\n",
       "      <td>154</td>\n",
       "      <td>0.18</td>\n",
       "      <td>G</td>\n",
       "      <td>IF</td>\n",
       "      <td>IGI</td>\n",
       "      <td>803</td>\n",
       "    </tr>\n",
       "    <tr>\n",
       "      <th>154</th>\n",
       "      <td>155</td>\n",
       "      <td>0.18</td>\n",
       "      <td>G</td>\n",
       "      <td>IF</td>\n",
       "      <td>IGI</td>\n",
       "      <td>803</td>\n",
       "    </tr>\n",
       "    <tr>\n",
       "      <th>155</th>\n",
       "      <td>156</td>\n",
       "      <td>0.18</td>\n",
       "      <td>G</td>\n",
       "      <td>VVS2</td>\n",
       "      <td>IGI</td>\n",
       "      <td>705</td>\n",
       "    </tr>\n",
       "    <tr>\n",
       "      <th>156</th>\n",
       "      <td>157</td>\n",
       "      <td>0.18</td>\n",
       "      <td>H</td>\n",
       "      <td>IF</td>\n",
       "      <td>IGI</td>\n",
       "      <td>725</td>\n",
       "    </tr>\n",
       "    <tr>\n",
       "      <th>157</th>\n",
       "      <td>158</td>\n",
       "      <td>0.19</td>\n",
       "      <td>D</td>\n",
       "      <td>VVS2</td>\n",
       "      <td>IGI</td>\n",
       "      <td>967</td>\n",
       "    </tr>\n",
       "    <tr>\n",
       "      <th>158</th>\n",
       "      <td>159</td>\n",
       "      <td>0.19</td>\n",
       "      <td>E</td>\n",
       "      <td>IF</td>\n",
       "      <td>IGI</td>\n",
       "      <td>1050</td>\n",
       "    </tr>\n",
       "    <tr>\n",
       "      <th>159</th>\n",
       "      <td>160</td>\n",
       "      <td>0.19</td>\n",
       "      <td>F</td>\n",
       "      <td>IF</td>\n",
       "      <td>IGI</td>\n",
       "      <td>967</td>\n",
       "    </tr>\n",
       "    <tr>\n",
       "      <th>160</th>\n",
       "      <td>161</td>\n",
       "      <td>0.19</td>\n",
       "      <td>F</td>\n",
       "      <td>VVS1</td>\n",
       "      <td>IGI</td>\n",
       "      <td>863</td>\n",
       "    </tr>\n",
       "    <tr>\n",
       "      <th>161</th>\n",
       "      <td>162</td>\n",
       "      <td>0.19</td>\n",
       "      <td>F</td>\n",
       "      <td>VVS2</td>\n",
       "      <td>IGI</td>\n",
       "      <td>800</td>\n",
       "    </tr>\n",
       "    <tr>\n",
       "      <th>162</th>\n",
       "      <td>163</td>\n",
       "      <td>0.19</td>\n",
       "      <td>G</td>\n",
       "      <td>IF</td>\n",
       "      <td>IGI</td>\n",
       "      <td>842</td>\n",
       "    </tr>\n",
       "    <tr>\n",
       "      <th>163</th>\n",
       "      <td>164</td>\n",
       "      <td>0.19</td>\n",
       "      <td>G</td>\n",
       "      <td>VVS1</td>\n",
       "      <td>IGI</td>\n",
       "      <td>800</td>\n",
       "    </tr>\n",
       "    <tr>\n",
       "      <th>164</th>\n",
       "      <td>165</td>\n",
       "      <td>0.19</td>\n",
       "      <td>H</td>\n",
       "      <td>IF</td>\n",
       "      <td>IGI</td>\n",
       "      <td>758</td>\n",
       "    </tr>\n",
       "  </tbody>\n",
       "</table>\n",
       "</div>"
      ],
      "text/plain": [
       "     IDNO  WEIGHT COLOR CLARITY RATER  PRICE\n",
       "151   152    0.18     F    VVS1   IGI    823\n",
       "152   153    0.18     F    VVS2   IGI    765\n",
       "153   154    0.18     G      IF   IGI    803\n",
       "154   155    0.18     G      IF   IGI    803\n",
       "155   156    0.18     G    VVS2   IGI    705\n",
       "156   157    0.18     H      IF   IGI    725\n",
       "157   158    0.19     D    VVS2   IGI    967\n",
       "158   159    0.19     E      IF   IGI   1050\n",
       "159   160    0.19     F      IF   IGI    967\n",
       "160   161    0.19     F    VVS1   IGI    863\n",
       "161   162    0.19     F    VVS2   IGI    800\n",
       "162   163    0.19     G      IF   IGI    842\n",
       "163   164    0.19     G    VVS1   IGI    800\n",
       "164   165    0.19     H      IF   IGI    758"
      ]
     },
     "execution_count": 19,
     "metadata": {},
     "output_type": "execute_result"
    }
   ],
   "source": [
    "df.loc[df['WEIGHT'] < .20 ]"
   ]
  },
  {
   "cell_type": "code",
   "execution_count": 21,
   "id": "7636e29b",
   "metadata": {},
   "outputs": [
    {
     "data": {
      "text/plain": [
       "F    82\n",
       "G    65\n",
       "H    61\n",
       "E    44\n",
       "I    40\n",
       "D    16\n",
       "Name: COLOR, dtype: int64"
      ]
     },
     "execution_count": 21,
     "metadata": {},
     "output_type": "execute_result"
    }
   ],
   "source": [
    "df['COLOR'].value_counts()"
   ]
  },
  {
   "cell_type": "code",
   "execution_count": 22,
   "id": "34c73483",
   "metadata": {},
   "outputs": [
    {
     "data": {
      "text/plain": [
       "308"
      ]
     },
     "execution_count": 22,
     "metadata": {},
     "output_type": "execute_result"
    }
   ],
   "source": [
    "df['COLOR'].count()"
   ]
  },
  {
   "cell_type": "code",
   "execution_count": 24,
   "id": "b7e91c64",
   "metadata": {
    "scrolled": true
   },
   "outputs": [
    {
     "data": {
      "text/plain": [
       "5019.483766233766"
      ]
     },
     "execution_count": 24,
     "metadata": {},
     "output_type": "execute_result"
    }
   ],
   "source": [
    "df['PRICE'].mean()"
   ]
  },
  {
   "cell_type": "code",
   "execution_count": 25,
   "id": "f7d714a2",
   "metadata": {},
   "outputs": [
    {
     "data": {
      "text/plain": [
       "638"
      ]
     },
     "execution_count": 25,
     "metadata": {},
     "output_type": "execute_result"
    }
   ],
   "source": [
    "df['PRICE'].min()"
   ]
  },
  {
   "cell_type": "code",
   "execution_count": 26,
   "id": "bde9843b",
   "metadata": {},
   "outputs": [
    {
     "data": {
      "text/plain": [
       "16008"
      ]
     },
     "execution_count": 26,
     "metadata": {},
     "output_type": "execute_result"
    }
   ],
   "source": [
    "df['PRICE'].max()"
   ]
  },
  {
   "cell_type": "code",
   "execution_count": 27,
   "id": "f89b359e",
   "metadata": {},
   "outputs": [
    {
     "data": {
      "text/plain": [
       "3403.115715012962"
      ]
     },
     "execution_count": 27,
     "metadata": {},
     "output_type": "execute_result"
    }
   ],
   "source": [
    "df['PRICE'].std()"
   ]
  },
  {
   "cell_type": "code",
   "execution_count": 23,
   "id": "96d24345",
   "metadata": {},
   "outputs": [
    {
     "data": {
      "text/html": [
       "<div>\n",
       "<style scoped>\n",
       "    .dataframe tbody tr th:only-of-type {\n",
       "        vertical-align: middle;\n",
       "    }\n",
       "\n",
       "    .dataframe tbody tr th {\n",
       "        vertical-align: top;\n",
       "    }\n",
       "\n",
       "    .dataframe thead th {\n",
       "        text-align: right;\n",
       "    }\n",
       "</style>\n",
       "<table border=\"1\" class=\"dataframe\">\n",
       "  <thead>\n",
       "    <tr style=\"text-align: right;\">\n",
       "      <th></th>\n",
       "      <th>IDNO</th>\n",
       "      <th>WEIGHT</th>\n",
       "      <th>PRICE</th>\n",
       "    </tr>\n",
       "    <tr>\n",
       "      <th>COLOR</th>\n",
       "      <th></th>\n",
       "      <th></th>\n",
       "      <th></th>\n",
       "    </tr>\n",
       "  </thead>\n",
       "  <tbody>\n",
       "    <tr>\n",
       "      <th>D</th>\n",
       "      <td>128.812500</td>\n",
       "      <td>0.638125</td>\n",
       "      <td>7099.875000</td>\n",
       "    </tr>\n",
       "    <tr>\n",
       "      <th>E</th>\n",
       "      <td>140.590909</td>\n",
       "      <td>0.623182</td>\n",
       "      <td>5507.931818</td>\n",
       "    </tr>\n",
       "    <tr>\n",
       "      <th>F</th>\n",
       "      <td>149.012195</td>\n",
       "      <td>0.592927</td>\n",
       "      <td>4786.402439</td>\n",
       "    </tr>\n",
       "    <tr>\n",
       "      <th>G</th>\n",
       "      <td>159.492308</td>\n",
       "      <td>0.580769</td>\n",
       "      <td>4426.184615</td>\n",
       "    </tr>\n",
       "    <tr>\n",
       "      <th>H</th>\n",
       "      <td>165.704918</td>\n",
       "      <td>0.673443</td>\n",
       "      <td>4965.016393</td>\n",
       "    </tr>\n",
       "    <tr>\n",
       "      <th>I</th>\n",
       "      <td>166.125000</td>\n",
       "      <td>0.731000</td>\n",
       "      <td>5175.025000</td>\n",
       "    </tr>\n",
       "  </tbody>\n",
       "</table>\n",
       "</div>"
      ],
      "text/plain": [
       "             IDNO    WEIGHT        PRICE\n",
       "COLOR                                   \n",
       "D      128.812500  0.638125  7099.875000\n",
       "E      140.590909  0.623182  5507.931818\n",
       "F      149.012195  0.592927  4786.402439\n",
       "G      159.492308  0.580769  4426.184615\n",
       "H      165.704918  0.673443  4965.016393\n",
       "I      166.125000  0.731000  5175.025000"
      ]
     },
     "execution_count": 23,
     "metadata": {},
     "output_type": "execute_result"
    }
   ],
   "source": [
    "df.groupby('COLOR').mean()"
   ]
  },
  {
   "cell_type": "code",
   "execution_count": 32,
   "id": "fb7350b8",
   "metadata": {},
   "outputs": [
    {
     "data": {
      "text/plain": [
       "CLARITY\n",
       "IF      2694.772727\n",
       "VS1     5057.037037\n",
       "VS2     5858.169811\n",
       "VVS1    5567.634615\n",
       "VVS2    5356.551282\n",
       "Name: PRICE, dtype: float64"
      ]
     },
     "execution_count": 32,
     "metadata": {},
     "output_type": "execute_result"
    }
   ],
   "source": [
    "df.groupby('CLARITY').mean()['PRICE']"
   ]
  },
  {
   "cell_type": "code",
   "execution_count": 37,
   "id": "ab4d5653",
   "metadata": {},
   "outputs": [
    {
     "data": {
      "text/html": [
       "<div>\n",
       "<style scoped>\n",
       "    .dataframe tbody tr th:only-of-type {\n",
       "        vertical-align: middle;\n",
       "    }\n",
       "\n",
       "    .dataframe tbody tr th {\n",
       "        vertical-align: top;\n",
       "    }\n",
       "\n",
       "    .dataframe thead th {\n",
       "        text-align: right;\n",
       "    }\n",
       "</style>\n",
       "<table border=\"1\" class=\"dataframe\">\n",
       "  <thead>\n",
       "    <tr style=\"text-align: right;\">\n",
       "      <th></th>\n",
       "      <th>IDNO</th>\n",
       "      <th>WEIGHT</th>\n",
       "      <th>COLOR</th>\n",
       "      <th>CLARITY</th>\n",
       "      <th>RATER</th>\n",
       "      <th>PRICE</th>\n",
       "      <th>UNIT_PRICE</th>\n",
       "    </tr>\n",
       "  </thead>\n",
       "  <tbody>\n",
       "    <tr>\n",
       "      <th>0</th>\n",
       "      <td>1</td>\n",
       "      <td>0.30</td>\n",
       "      <td>D</td>\n",
       "      <td>VS2</td>\n",
       "      <td>GIA</td>\n",
       "      <td>1302</td>\n",
       "      <td>4340.000000</td>\n",
       "    </tr>\n",
       "    <tr>\n",
       "      <th>1</th>\n",
       "      <td>2</td>\n",
       "      <td>0.30</td>\n",
       "      <td>E</td>\n",
       "      <td>VS1</td>\n",
       "      <td>GIA</td>\n",
       "      <td>1510</td>\n",
       "      <td>5033.333333</td>\n",
       "    </tr>\n",
       "    <tr>\n",
       "      <th>2</th>\n",
       "      <td>3</td>\n",
       "      <td>0.30</td>\n",
       "      <td>G</td>\n",
       "      <td>VVS1</td>\n",
       "      <td>GIA</td>\n",
       "      <td>1510</td>\n",
       "      <td>5033.333333</td>\n",
       "    </tr>\n",
       "    <tr>\n",
       "      <th>3</th>\n",
       "      <td>4</td>\n",
       "      <td>0.30</td>\n",
       "      <td>G</td>\n",
       "      <td>VS1</td>\n",
       "      <td>GIA</td>\n",
       "      <td>1260</td>\n",
       "      <td>4200.000000</td>\n",
       "    </tr>\n",
       "    <tr>\n",
       "      <th>4</th>\n",
       "      <td>5</td>\n",
       "      <td>0.31</td>\n",
       "      <td>D</td>\n",
       "      <td>VS1</td>\n",
       "      <td>GIA</td>\n",
       "      <td>1641</td>\n",
       "      <td>5293.548387</td>\n",
       "    </tr>\n",
       "  </tbody>\n",
       "</table>\n",
       "</div>"
      ],
      "text/plain": [
       "   IDNO  WEIGHT COLOR CLARITY RATER  PRICE   UNIT_PRICE\n",
       "0     1    0.30     D     VS2   GIA   1302  4340.000000\n",
       "1     2    0.30     E     VS1   GIA   1510  5033.333333\n",
       "2     3    0.30     G    VVS1   GIA   1510  5033.333333\n",
       "3     4    0.30     G     VS1   GIA   1260  4200.000000\n",
       "4     5    0.31     D     VS1   GIA   1641  5293.548387"
      ]
     },
     "execution_count": 37,
     "metadata": {},
     "output_type": "execute_result"
    }
   ],
   "source": [
    "df['UNIT_PRICE'] = df['PRICE'] / df['WEIGHT']\n",
    "df[:5]"
   ]
  },
  {
   "cell_type": "code",
   "execution_count": 42,
   "id": "7440d930",
   "metadata": {},
   "outputs": [],
   "source": [
    "from scipy import stats"
   ]
  },
  {
   "cell_type": "code",
   "execution_count": 45,
   "id": "c2d5702c",
   "metadata": {
    "scrolled": true
   },
   "outputs": [],
   "source": [
    "result = stats.linregress(df['WEIGHT'],df['PRICE'])\n"
   ]
  },
  {
   "cell_type": "code",
   "execution_count": 46,
   "id": "1c7e120d",
   "metadata": {},
   "outputs": [
    {
     "name": "stdout",
     "output_type": "stream",
     "text": [
      "Slope is 11598.884012882309\n"
     ]
    }
   ],
   "source": [
    "print ('Slope is {}'.format(result.slope))"
   ]
  },
  {
   "cell_type": "code",
   "execution_count": 47,
   "id": "dfed00b4",
   "metadata": {},
   "outputs": [
    {
     "name": "stdout",
     "output_type": "stream",
     "text": [
      "Intercept is -2298.3576018937993\n"
     ]
    }
   ],
   "source": [
    "print ('Intercept is {}'.format(result.intercept))"
   ]
  },
  {
   "cell_type": "code",
   "execution_count": 48,
   "id": "80c19e27",
   "metadata": {},
   "outputs": [
    {
     "name": "stdout",
     "output_type": "stream",
     "text": [
      "P Value is 3.0448096265906994e-150\n"
     ]
    }
   ],
   "source": [
    "print ('P Value is {}'.format(result.pvalue))"
   ]
  },
  {
   "cell_type": "code",
   "execution_count": 55,
   "id": "eeb9c691",
   "metadata": {},
   "outputs": [
    {
     "name": "stdout",
     "output_type": "stream",
     "text": [
      "The predicted price of a diamond with the weight of 0.9 is $8140.638009700279. \n"
     ]
    }
   ],
   "source": [
    "print ('The predicted price of a diamond with the weight of {} is ${}. '.format(0.9, 0.9 * result.slope+result.intercept))"
   ]
  },
  {
   "cell_type": "code",
   "execution_count": 56,
   "id": "c0e2ccd1",
   "metadata": {},
   "outputs": [
    {
     "name": "stdout",
     "output_type": "stream",
     "text": [
      "Collecting textblob\n",
      "  Downloading textblob-0.17.1-py2.py3-none-any.whl (636 kB)\n",
      "     |████████████████████████████████| 636 kB 16.5 MB/s            \n",
      "\u001b[?25hRequirement already satisfied: nltk>=3.1 in /home/ec2-user/anaconda3/envs/python3/lib/python3.6/site-packages (from textblob) (3.4.4)\n",
      "Requirement already satisfied: six in /home/ec2-user/anaconda3/envs/python3/lib/python3.6/site-packages (from nltk>=3.1->textblob) (1.15.0)\n",
      "Installing collected packages: textblob\n",
      "Successfully installed textblob-0.17.1\n"
     ]
    }
   ],
   "source": [
    "!pip install textblob"
   ]
  },
  {
   "cell_type": "code",
   "execution_count": 63,
   "id": "f0968f34",
   "metadata": {},
   "outputs": [],
   "source": [
    "from textblob import TextBlob\n"
   ]
  },
  {
   "cell_type": "code",
   "execution_count": 62,
   "id": "649cacbf",
   "metadata": {},
   "outputs": [],
   "source": [
    "result = TextBlob ('I love dog')"
   ]
  },
  {
   "cell_type": "code",
   "execution_count": 66,
   "id": "9a89f40f",
   "metadata": {},
   "outputs": [
    {
     "name": "stdout",
     "output_type": "stream",
     "text": [
      "The Polarity is 0.5\n"
     ]
    }
   ],
   "source": [
    "print ('The Polarity is {}'.format(result.sentiment.polarity))"
   ]
  },
  {
   "cell_type": "code",
   "execution_count": 67,
   "id": "2d2d181d",
   "metadata": {},
   "outputs": [
    {
     "name": "stdout",
     "output_type": "stream",
     "text": [
      "The Subjectivity is 0.6\n"
     ]
    }
   ],
   "source": [
    "print ('The Subjectivity is {}'.format(result.sentiment.subjectivity))"
   ]
  }
 ],
 "metadata": {
  "kernelspec": {
   "display_name": "conda_python3",
   "language": "python",
   "name": "conda_python3"
  },
  "language_info": {
   "codemirror_mode": {
    "name": "ipython",
    "version": 3
   },
   "file_extension": ".py",
   "mimetype": "text/x-python",
   "name": "python",
   "nbconvert_exporter": "python",
   "pygments_lexer": "ipython3",
   "version": "3.6.13"
  }
 },
 "nbformat": 4,
 "nbformat_minor": 5
}
